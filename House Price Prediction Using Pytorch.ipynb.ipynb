{
 "cells": [
  {
   "cell_type": "markdown",
   "id": "bf9d03b2-05d0-42f6-901a-f5b1887b04a3",
   "metadata": {},
   "source": [
    "### House Price Prediction Using Pytorch- Tabular Dataset"
   ]
  },
  {
   "cell_type": "code",
   "execution_count": 1,
   "id": "b1ab2d99-de2a-4152-bec5-8f09e91f429b",
   "metadata": {},
   "outputs": [],
   "source": [
    "import pandas as pd\n",
    "import numpy as np"
   ]
  },
  {
   "cell_type": "code",
   "execution_count": 2,
   "id": "b41b2fa4-b799-4562-80eb-d9c734e58326",
   "metadata": {},
   "outputs": [],
   "source": [
    "df=pd.read_csv('houseprice.csv',usecols=[\"SalePrice\", \"MSSubClass\", \"MSZoning\", \"LotFrontage\", \"LotArea\",\n",
    "                                         \"Street\", \"YearBuilt\", \"LotShape\", \"1stFlrSF\", \"2ndFlrSF\"]).dropna()"
   ]
  },
  {
   "cell_type": "code",
   "execution_count": 3,
   "id": "f37d5347-08aa-4179-9c84-113301379e94",
   "metadata": {},
   "outputs": [
    {
     "data": {
      "text/plain": [
       "(1201, 10)"
      ]
     },
     "execution_count": 3,
     "metadata": {},
     "output_type": "execute_result"
    }
   ],
   "source": [
    "df.shape"
   ]
  },
  {
   "cell_type": "code",
   "execution_count": 4,
   "id": "4f88a970-8907-4657-8ca6-2ccdc5fe599f",
   "metadata": {},
   "outputs": [
    {
     "data": {
      "text/html": [
       "<div>\n",
       "<style scoped>\n",
       "    .dataframe tbody tr th:only-of-type {\n",
       "        vertical-align: middle;\n",
       "    }\n",
       "\n",
       "    .dataframe tbody tr th {\n",
       "        vertical-align: top;\n",
       "    }\n",
       "\n",
       "    .dataframe thead th {\n",
       "        text-align: right;\n",
       "    }\n",
       "</style>\n",
       "<table border=\"1\" class=\"dataframe\">\n",
       "  <thead>\n",
       "    <tr style=\"text-align: right;\">\n",
       "      <th></th>\n",
       "      <th>MSSubClass</th>\n",
       "      <th>MSZoning</th>\n",
       "      <th>LotFrontage</th>\n",
       "      <th>LotArea</th>\n",
       "      <th>Street</th>\n",
       "      <th>LotShape</th>\n",
       "      <th>YearBuilt</th>\n",
       "      <th>1stFlrSF</th>\n",
       "      <th>2ndFlrSF</th>\n",
       "      <th>SalePrice</th>\n",
       "    </tr>\n",
       "  </thead>\n",
       "  <tbody>\n",
       "    <tr>\n",
       "      <th>0</th>\n",
       "      <td>60</td>\n",
       "      <td>RL</td>\n",
       "      <td>65.0</td>\n",
       "      <td>8450</td>\n",
       "      <td>Pave</td>\n",
       "      <td>Reg</td>\n",
       "      <td>2003</td>\n",
       "      <td>856</td>\n",
       "      <td>854</td>\n",
       "      <td>208500</td>\n",
       "    </tr>\n",
       "    <tr>\n",
       "      <th>1</th>\n",
       "      <td>20</td>\n",
       "      <td>RL</td>\n",
       "      <td>80.0</td>\n",
       "      <td>9600</td>\n",
       "      <td>Pave</td>\n",
       "      <td>Reg</td>\n",
       "      <td>1976</td>\n",
       "      <td>1262</td>\n",
       "      <td>0</td>\n",
       "      <td>181500</td>\n",
       "    </tr>\n",
       "    <tr>\n",
       "      <th>2</th>\n",
       "      <td>60</td>\n",
       "      <td>RL</td>\n",
       "      <td>68.0</td>\n",
       "      <td>11250</td>\n",
       "      <td>Pave</td>\n",
       "      <td>IR1</td>\n",
       "      <td>2001</td>\n",
       "      <td>920</td>\n",
       "      <td>866</td>\n",
       "      <td>223500</td>\n",
       "    </tr>\n",
       "    <tr>\n",
       "      <th>3</th>\n",
       "      <td>70</td>\n",
       "      <td>RL</td>\n",
       "      <td>60.0</td>\n",
       "      <td>9550</td>\n",
       "      <td>Pave</td>\n",
       "      <td>IR1</td>\n",
       "      <td>1915</td>\n",
       "      <td>961</td>\n",
       "      <td>756</td>\n",
       "      <td>140000</td>\n",
       "    </tr>\n",
       "    <tr>\n",
       "      <th>4</th>\n",
       "      <td>60</td>\n",
       "      <td>RL</td>\n",
       "      <td>84.0</td>\n",
       "      <td>14260</td>\n",
       "      <td>Pave</td>\n",
       "      <td>IR1</td>\n",
       "      <td>2000</td>\n",
       "      <td>1145</td>\n",
       "      <td>1053</td>\n",
       "      <td>250000</td>\n",
       "    </tr>\n",
       "  </tbody>\n",
       "</table>\n",
       "</div>"
      ],
      "text/plain": [
       "   MSSubClass MSZoning  LotFrontage  LotArea Street LotShape  YearBuilt  \\\n",
       "0          60       RL         65.0     8450   Pave      Reg       2003   \n",
       "1          20       RL         80.0     9600   Pave      Reg       1976   \n",
       "2          60       RL         68.0    11250   Pave      IR1       2001   \n",
       "3          70       RL         60.0     9550   Pave      IR1       1915   \n",
       "4          60       RL         84.0    14260   Pave      IR1       2000   \n",
       "\n",
       "   1stFlrSF  2ndFlrSF  SalePrice  \n",
       "0       856       854     208500  \n",
       "1      1262         0     181500  \n",
       "2       920       866     223500  \n",
       "3       961       756     140000  \n",
       "4      1145      1053     250000  "
      ]
     },
     "execution_count": 4,
     "metadata": {},
     "output_type": "execute_result"
    }
   ],
   "source": [
    "df.head()"
   ]
  },
  {
   "cell_type": "code",
   "execution_count": 5,
   "id": "3328476e-fe28-4e8a-954e-56b7055f9967",
   "metadata": {},
   "outputs": [
    {
     "name": "stdout",
     "output_type": "stream",
     "text": [
      "<class 'pandas.core.frame.DataFrame'>\n",
      "Index: 1201 entries, 0 to 1459\n",
      "Data columns (total 10 columns):\n",
      " #   Column       Non-Null Count  Dtype  \n",
      "---  ------       --------------  -----  \n",
      " 0   MSSubClass   1201 non-null   int64  \n",
      " 1   MSZoning     1201 non-null   object \n",
      " 2   LotFrontage  1201 non-null   float64\n",
      " 3   LotArea      1201 non-null   int64  \n",
      " 4   Street       1201 non-null   object \n",
      " 5   LotShape     1201 non-null   object \n",
      " 6   YearBuilt    1201 non-null   int64  \n",
      " 7   1stFlrSF     1201 non-null   int64  \n",
      " 8   2ndFlrSF     1201 non-null   int64  \n",
      " 9   SalePrice    1201 non-null   int64  \n",
      "dtypes: float64(1), int64(6), object(3)\n",
      "memory usage: 103.2+ KB\n"
     ]
    }
   ],
   "source": [
    "df.info()"
   ]
  },
  {
   "cell_type": "code",
   "execution_count": 6,
   "id": "9237777c-a5e0-4aa8-adf1-0548e3caca22",
   "metadata": {},
   "outputs": [
    {
     "name": "stdout",
     "output_type": "stream",
     "text": [
      "Column name MSSubClass and unique values are 15\n",
      "Column name MSZoning and unique values are 5\n",
      "Column name LotFrontage and unique values are 110\n",
      "Column name LotArea and unique values are 869\n",
      "Column name Street and unique values are 2\n",
      "Column name LotShape and unique values are 4\n",
      "Column name YearBuilt and unique values are 112\n",
      "Column name 1stFlrSF and unique values are 678\n",
      "Column name 2ndFlrSF and unique values are 368\n",
      "Column name SalePrice and unique values are 597\n"
     ]
    }
   ],
   "source": [
    "for i in df.columns:\n",
    "    print(\"Column name {} and unique values are {}\" .format(i,len(df[i].unique())))"
   ]
  },
  {
   "cell_type": "code",
   "execution_count": 7,
   "id": "064718e0-09ed-4955-97e2-7fc2895eef8d",
   "metadata": {},
   "outputs": [
    {
     "data": {
      "text/plain": [
       "2025"
      ]
     },
     "execution_count": 7,
     "metadata": {},
     "output_type": "execute_result"
    }
   ],
   "source": [
    "import datetime\n",
    "datetime.datetime.now().year"
   ]
  },
  {
   "cell_type": "code",
   "execution_count": 8,
   "id": "2e26b6bd-c05b-4fa4-a467-370ed8f97062",
   "metadata": {},
   "outputs": [],
   "source": [
    "df['Total Years'] = datetime.datetime.now().year-df['YearBuilt']"
   ]
  },
  {
   "cell_type": "code",
   "execution_count": 9,
   "id": "30bec2aa-fc85-40e5-9ec1-9f4f510cc1f3",
   "metadata": {},
   "outputs": [
    {
     "data": {
      "text/html": [
       "<div>\n",
       "<style scoped>\n",
       "    .dataframe tbody tr th:only-of-type {\n",
       "        vertical-align: middle;\n",
       "    }\n",
       "\n",
       "    .dataframe tbody tr th {\n",
       "        vertical-align: top;\n",
       "    }\n",
       "\n",
       "    .dataframe thead th {\n",
       "        text-align: right;\n",
       "    }\n",
       "</style>\n",
       "<table border=\"1\" class=\"dataframe\">\n",
       "  <thead>\n",
       "    <tr style=\"text-align: right;\">\n",
       "      <th></th>\n",
       "      <th>MSSubClass</th>\n",
       "      <th>MSZoning</th>\n",
       "      <th>LotFrontage</th>\n",
       "      <th>LotArea</th>\n",
       "      <th>Street</th>\n",
       "      <th>LotShape</th>\n",
       "      <th>YearBuilt</th>\n",
       "      <th>1stFlrSF</th>\n",
       "      <th>2ndFlrSF</th>\n",
       "      <th>SalePrice</th>\n",
       "      <th>Total Years</th>\n",
       "    </tr>\n",
       "  </thead>\n",
       "  <tbody>\n",
       "    <tr>\n",
       "      <th>0</th>\n",
       "      <td>60</td>\n",
       "      <td>RL</td>\n",
       "      <td>65.0</td>\n",
       "      <td>8450</td>\n",
       "      <td>Pave</td>\n",
       "      <td>Reg</td>\n",
       "      <td>2003</td>\n",
       "      <td>856</td>\n",
       "      <td>854</td>\n",
       "      <td>208500</td>\n",
       "      <td>22</td>\n",
       "    </tr>\n",
       "    <tr>\n",
       "      <th>1</th>\n",
       "      <td>20</td>\n",
       "      <td>RL</td>\n",
       "      <td>80.0</td>\n",
       "      <td>9600</td>\n",
       "      <td>Pave</td>\n",
       "      <td>Reg</td>\n",
       "      <td>1976</td>\n",
       "      <td>1262</td>\n",
       "      <td>0</td>\n",
       "      <td>181500</td>\n",
       "      <td>49</td>\n",
       "    </tr>\n",
       "    <tr>\n",
       "      <th>2</th>\n",
       "      <td>60</td>\n",
       "      <td>RL</td>\n",
       "      <td>68.0</td>\n",
       "      <td>11250</td>\n",
       "      <td>Pave</td>\n",
       "      <td>IR1</td>\n",
       "      <td>2001</td>\n",
       "      <td>920</td>\n",
       "      <td>866</td>\n",
       "      <td>223500</td>\n",
       "      <td>24</td>\n",
       "    </tr>\n",
       "    <tr>\n",
       "      <th>3</th>\n",
       "      <td>70</td>\n",
       "      <td>RL</td>\n",
       "      <td>60.0</td>\n",
       "      <td>9550</td>\n",
       "      <td>Pave</td>\n",
       "      <td>IR1</td>\n",
       "      <td>1915</td>\n",
       "      <td>961</td>\n",
       "      <td>756</td>\n",
       "      <td>140000</td>\n",
       "      <td>110</td>\n",
       "    </tr>\n",
       "    <tr>\n",
       "      <th>4</th>\n",
       "      <td>60</td>\n",
       "      <td>RL</td>\n",
       "      <td>84.0</td>\n",
       "      <td>14260</td>\n",
       "      <td>Pave</td>\n",
       "      <td>IR1</td>\n",
       "      <td>2000</td>\n",
       "      <td>1145</td>\n",
       "      <td>1053</td>\n",
       "      <td>250000</td>\n",
       "      <td>25</td>\n",
       "    </tr>\n",
       "  </tbody>\n",
       "</table>\n",
       "</div>"
      ],
      "text/plain": [
       "   MSSubClass MSZoning  LotFrontage  LotArea Street LotShape  YearBuilt  \\\n",
       "0          60       RL         65.0     8450   Pave      Reg       2003   \n",
       "1          20       RL         80.0     9600   Pave      Reg       1976   \n",
       "2          60       RL         68.0    11250   Pave      IR1       2001   \n",
       "3          70       RL         60.0     9550   Pave      IR1       1915   \n",
       "4          60       RL         84.0    14260   Pave      IR1       2000   \n",
       "\n",
       "   1stFlrSF  2ndFlrSF  SalePrice  Total Years  \n",
       "0       856       854     208500           22  \n",
       "1      1262         0     181500           49  \n",
       "2       920       866     223500           24  \n",
       "3       961       756     140000          110  \n",
       "4      1145      1053     250000           25  "
      ]
     },
     "execution_count": 9,
     "metadata": {},
     "output_type": "execute_result"
    }
   ],
   "source": [
    "df.head()"
   ]
  },
  {
   "cell_type": "code",
   "execution_count": 10,
   "id": "efa1bff8-30fe-421a-8818-56ed14ebbcbc",
   "metadata": {},
   "outputs": [],
   "source": [
    "df.drop(\"YearBuilt\", axis=1, inplace=True)"
   ]
  },
  {
   "cell_type": "code",
   "execution_count": 11,
   "id": "8aa8327f-cbb3-43f6-a3d1-5449c3475b8e",
   "metadata": {},
   "outputs": [
    {
     "data": {
      "text/plain": [
       "Index(['MSSubClass', 'MSZoning', 'LotFrontage', 'LotArea', 'Street',\n",
       "       'LotShape', '1stFlrSF', '2ndFlrSF', 'SalePrice', 'Total Years'],\n",
       "      dtype='object')"
      ]
     },
     "execution_count": 11,
     "metadata": {},
     "output_type": "execute_result"
    }
   ],
   "source": [
    "df.columns"
   ]
  },
  {
   "cell_type": "code",
   "execution_count": 12,
   "id": "1d672eb4-2fbf-44f7-a8ec-78b65ac018fe",
   "metadata": {},
   "outputs": [],
   "source": [
    "### Creating Categorical Features\n",
    "\n",
    "cat_features = ['MSSubClass', 'MSZoning','Street', 'LotShape']\n",
    "out_features = \"SalePrice\""
   ]
  },
  {
   "cell_type": "code",
   "execution_count": 13,
   "id": "c66f3793-af3b-405e-9215-2488b6dd8eda",
   "metadata": {},
   "outputs": [
    {
     "data": {
      "text/plain": [
       "array([ 60,  20,  70,  50, 190,  45,  90, 120,  30,  80, 160,  75, 180,\n",
       "        40,  85], dtype=int64)"
      ]
     },
     "execution_count": 13,
     "metadata": {},
     "output_type": "execute_result"
    }
   ],
   "source": [
    "df['MSSubClass'].unique()"
   ]
  },
  {
   "cell_type": "code",
   "execution_count": 14,
   "id": "da2827e4-b228-429b-b923-7f4bd6769bf2",
   "metadata": {},
   "outputs": [
    {
     "data": {
      "text/plain": [
       "array([5, 0, 5, ..., 6, 0, 0], dtype=int64)"
      ]
     },
     "execution_count": 14,
     "metadata": {},
     "output_type": "execute_result"
    }
   ],
   "source": [
    "from sklearn.preprocessing import LabelEncoder\n",
    "lbl_encoders = {}\n",
    "lbl_encoders[\"MSSubClass\"] = LabelEncoder()\n",
    "lbl_encoders[\"MSSubClass\"].fit_transform(df[\"MSSubClass\"])"
   ]
  },
  {
   "cell_type": "code",
   "execution_count": 15,
   "id": "48546de5-f164-4ad0-a3c5-630ba1fe1294",
   "metadata": {},
   "outputs": [
    {
     "data": {
      "text/plain": [
       "{'MSSubClass': LabelEncoder()}"
      ]
     },
     "execution_count": 15,
     "metadata": {},
     "output_type": "execute_result"
    }
   ],
   "source": [
    "lbl_encoders"
   ]
  },
  {
   "cell_type": "code",
   "execution_count": 16,
   "id": "a63ca417-9aef-4e37-9718-817598ad4d21",
   "metadata": {},
   "outputs": [],
   "source": [
    "from sklearn.preprocessing import LabelEncoder\n",
    "lbl_encoders = {}\n",
    "\n",
    "for feature in cat_features:\n",
    "    lbl_encoders[feature] = LabelEncoder()\n",
    "    df[feature] = lbl_encoders[feature].fit_transform(df[feature])"
   ]
  },
  {
   "cell_type": "code",
   "execution_count": 17,
   "id": "175519e5-a0ab-4bf0-b693-731124cd18a2",
   "metadata": {},
   "outputs": [
    {
     "data": {
      "text/html": [
       "<div>\n",
       "<style scoped>\n",
       "    .dataframe tbody tr th:only-of-type {\n",
       "        vertical-align: middle;\n",
       "    }\n",
       "\n",
       "    .dataframe tbody tr th {\n",
       "        vertical-align: top;\n",
       "    }\n",
       "\n",
       "    .dataframe thead th {\n",
       "        text-align: right;\n",
       "    }\n",
       "</style>\n",
       "<table border=\"1\" class=\"dataframe\">\n",
       "  <thead>\n",
       "    <tr style=\"text-align: right;\">\n",
       "      <th></th>\n",
       "      <th>MSSubClass</th>\n",
       "      <th>MSZoning</th>\n",
       "      <th>LotFrontage</th>\n",
       "      <th>LotArea</th>\n",
       "      <th>Street</th>\n",
       "      <th>LotShape</th>\n",
       "      <th>1stFlrSF</th>\n",
       "      <th>2ndFlrSF</th>\n",
       "      <th>SalePrice</th>\n",
       "      <th>Total Years</th>\n",
       "    </tr>\n",
       "  </thead>\n",
       "  <tbody>\n",
       "    <tr>\n",
       "      <th>0</th>\n",
       "      <td>5</td>\n",
       "      <td>3</td>\n",
       "      <td>65.0</td>\n",
       "      <td>8450</td>\n",
       "      <td>1</td>\n",
       "      <td>3</td>\n",
       "      <td>856</td>\n",
       "      <td>854</td>\n",
       "      <td>208500</td>\n",
       "      <td>22</td>\n",
       "    </tr>\n",
       "    <tr>\n",
       "      <th>1</th>\n",
       "      <td>0</td>\n",
       "      <td>3</td>\n",
       "      <td>80.0</td>\n",
       "      <td>9600</td>\n",
       "      <td>1</td>\n",
       "      <td>3</td>\n",
       "      <td>1262</td>\n",
       "      <td>0</td>\n",
       "      <td>181500</td>\n",
       "      <td>49</td>\n",
       "    </tr>\n",
       "    <tr>\n",
       "      <th>2</th>\n",
       "      <td>5</td>\n",
       "      <td>3</td>\n",
       "      <td>68.0</td>\n",
       "      <td>11250</td>\n",
       "      <td>1</td>\n",
       "      <td>0</td>\n",
       "      <td>920</td>\n",
       "      <td>866</td>\n",
       "      <td>223500</td>\n",
       "      <td>24</td>\n",
       "    </tr>\n",
       "    <tr>\n",
       "      <th>3</th>\n",
       "      <td>6</td>\n",
       "      <td>3</td>\n",
       "      <td>60.0</td>\n",
       "      <td>9550</td>\n",
       "      <td>1</td>\n",
       "      <td>0</td>\n",
       "      <td>961</td>\n",
       "      <td>756</td>\n",
       "      <td>140000</td>\n",
       "      <td>110</td>\n",
       "    </tr>\n",
       "    <tr>\n",
       "      <th>4</th>\n",
       "      <td>5</td>\n",
       "      <td>3</td>\n",
       "      <td>84.0</td>\n",
       "      <td>14260</td>\n",
       "      <td>1</td>\n",
       "      <td>0</td>\n",
       "      <td>1145</td>\n",
       "      <td>1053</td>\n",
       "      <td>250000</td>\n",
       "      <td>25</td>\n",
       "    </tr>\n",
       "    <tr>\n",
       "      <th>...</th>\n",
       "      <td>...</td>\n",
       "      <td>...</td>\n",
       "      <td>...</td>\n",
       "      <td>...</td>\n",
       "      <td>...</td>\n",
       "      <td>...</td>\n",
       "      <td>...</td>\n",
       "      <td>...</td>\n",
       "      <td>...</td>\n",
       "      <td>...</td>\n",
       "    </tr>\n",
       "    <tr>\n",
       "      <th>1455</th>\n",
       "      <td>5</td>\n",
       "      <td>3</td>\n",
       "      <td>62.0</td>\n",
       "      <td>7917</td>\n",
       "      <td>1</td>\n",
       "      <td>3</td>\n",
       "      <td>953</td>\n",
       "      <td>694</td>\n",
       "      <td>175000</td>\n",
       "      <td>26</td>\n",
       "    </tr>\n",
       "    <tr>\n",
       "      <th>1456</th>\n",
       "      <td>0</td>\n",
       "      <td>3</td>\n",
       "      <td>85.0</td>\n",
       "      <td>13175</td>\n",
       "      <td>1</td>\n",
       "      <td>3</td>\n",
       "      <td>2073</td>\n",
       "      <td>0</td>\n",
       "      <td>210000</td>\n",
       "      <td>47</td>\n",
       "    </tr>\n",
       "    <tr>\n",
       "      <th>1457</th>\n",
       "      <td>6</td>\n",
       "      <td>3</td>\n",
       "      <td>66.0</td>\n",
       "      <td>9042</td>\n",
       "      <td>1</td>\n",
       "      <td>3</td>\n",
       "      <td>1188</td>\n",
       "      <td>1152</td>\n",
       "      <td>266500</td>\n",
       "      <td>84</td>\n",
       "    </tr>\n",
       "    <tr>\n",
       "      <th>1458</th>\n",
       "      <td>0</td>\n",
       "      <td>3</td>\n",
       "      <td>68.0</td>\n",
       "      <td>9717</td>\n",
       "      <td>1</td>\n",
       "      <td>3</td>\n",
       "      <td>1078</td>\n",
       "      <td>0</td>\n",
       "      <td>142125</td>\n",
       "      <td>75</td>\n",
       "    </tr>\n",
       "    <tr>\n",
       "      <th>1459</th>\n",
       "      <td>0</td>\n",
       "      <td>3</td>\n",
       "      <td>75.0</td>\n",
       "      <td>9937</td>\n",
       "      <td>1</td>\n",
       "      <td>3</td>\n",
       "      <td>1256</td>\n",
       "      <td>0</td>\n",
       "      <td>147500</td>\n",
       "      <td>60</td>\n",
       "    </tr>\n",
       "  </tbody>\n",
       "</table>\n",
       "<p>1201 rows × 10 columns</p>\n",
       "</div>"
      ],
      "text/plain": [
       "      MSSubClass  MSZoning  LotFrontage  LotArea  Street  LotShape  1stFlrSF  \\\n",
       "0              5         3         65.0     8450       1         3       856   \n",
       "1              0         3         80.0     9600       1         3      1262   \n",
       "2              5         3         68.0    11250       1         0       920   \n",
       "3              6         3         60.0     9550       1         0       961   \n",
       "4              5         3         84.0    14260       1         0      1145   \n",
       "...          ...       ...          ...      ...     ...       ...       ...   \n",
       "1455           5         3         62.0     7917       1         3       953   \n",
       "1456           0         3         85.0    13175       1         3      2073   \n",
       "1457           6         3         66.0     9042       1         3      1188   \n",
       "1458           0         3         68.0     9717       1         3      1078   \n",
       "1459           0         3         75.0     9937       1         3      1256   \n",
       "\n",
       "      2ndFlrSF  SalePrice  Total Years  \n",
       "0          854     208500           22  \n",
       "1            0     181500           49  \n",
       "2          866     223500           24  \n",
       "3          756     140000          110  \n",
       "4         1053     250000           25  \n",
       "...        ...        ...          ...  \n",
       "1455       694     175000           26  \n",
       "1456         0     210000           47  \n",
       "1457      1152     266500           84  \n",
       "1458         0     142125           75  \n",
       "1459         0     147500           60  \n",
       "\n",
       "[1201 rows x 10 columns]"
      ]
     },
     "execution_count": 17,
     "metadata": {},
     "output_type": "execute_result"
    }
   ],
   "source": [
    "df"
   ]
  },
  {
   "cell_type": "code",
   "execution_count": 18,
   "id": "1afb1a03-9745-409b-9e97-5cb65b86df3f",
   "metadata": {},
   "outputs": [
    {
     "data": {
      "text/plain": [
       "array([[5, 3, 1, 3],\n",
       "       [0, 3, 1, 3],\n",
       "       [5, 3, 1, 0],\n",
       "       ...,\n",
       "       [6, 3, 1, 3],\n",
       "       [0, 3, 1, 3],\n",
       "       [0, 3, 1, 3]], dtype=int64)"
      ]
     },
     "execution_count": 18,
     "metadata": {},
     "output_type": "execute_result"
    }
   ],
   "source": [
    "## Stacking and converting into Tensor\n",
    "cat_features = np.stack([df['MSSubClass'], df['MSZoning'], df['Street'], df['LotShape']], 1)\n",
    "cat_features"
   ]
  },
  {
   "cell_type": "code",
   "execution_count": 19,
   "id": "9485f369-66b4-4413-86e1-a1f0d0b5cf9b",
   "metadata": {},
   "outputs": [
    {
     "data": {
      "text/plain": [
       "tensor([[5, 3, 1, 3],\n",
       "        [0, 3, 1, 3],\n",
       "        [5, 3, 1, 0],\n",
       "        ...,\n",
       "        [6, 3, 1, 3],\n",
       "        [0, 3, 1, 3],\n",
       "        [0, 3, 1, 3]])"
      ]
     },
     "execution_count": 19,
     "metadata": {},
     "output_type": "execute_result"
    }
   ],
   "source": [
    "## Convert Numpy into Tensorsabs\n",
    "import torch\n",
    "cat_features = torch.tensor(cat_features, dtype=torch.int64)\n",
    "cat_features"
   ]
  },
  {
   "cell_type": "code",
   "execution_count": 20,
   "id": "ea2411de-57bc-4543-b2ef-2345d60c291a",
   "metadata": {},
   "outputs": [],
   "source": [
    "## Create continious variable\n",
    "cont_features = []\n",
    "for i in df.columns:\n",
    "    if i in ['MSSubClass', 'MSZoning', \"Street\", \"LotShape\", \"SalePrice\"]:\n",
    "        pass\n",
    "    else:\n",
    "        cont_features.append(i)"
   ]
  },
  {
   "cell_type": "code",
   "execution_count": 21,
   "id": "cbb53a4c-6bdf-4f22-8d8e-4cc8a94cd43d",
   "metadata": {},
   "outputs": [
    {
     "data": {
      "text/plain": [
       "['LotFrontage', 'LotArea', '1stFlrSF', '2ndFlrSF', 'Total Years']"
      ]
     },
     "execution_count": 21,
     "metadata": {},
     "output_type": "execute_result"
    }
   ],
   "source": [
    "cont_features"
   ]
  },
  {
   "cell_type": "code",
   "execution_count": 22,
   "id": "66f2f806-594a-44d0-8dae-faeee61fe4dc",
   "metadata": {},
   "outputs": [
    {
     "data": {
      "text/plain": [
       "tensor([[   65.,  8450.,   856.,   854.,    22.],\n",
       "        [   80.,  9600.,  1262.,     0.,    49.],\n",
       "        [   68., 11250.,   920.,   866.,    24.],\n",
       "        ...,\n",
       "        [   66.,  9042.,  1188.,  1152.,    84.],\n",
       "        [   68.,  9717.,  1078.,     0.,    75.],\n",
       "        [   75.,  9937.,  1256.,     0.,    60.]])"
      ]
     },
     "execution_count": 22,
     "metadata": {},
     "output_type": "execute_result"
    }
   ],
   "source": [
    "## stacking continious variable to a tensorabs\n",
    "cont_values = np.stack([df[i].values for i in cont_features], axis=1)\n",
    "cont_values = torch.tensor(cont_values, dtype=torch.float)\n",
    "cont_values"
   ]
  },
  {
   "cell_type": "code",
   "execution_count": 23,
   "id": "b4b4e6c5-c118-4097-88d4-b4a5a5cd0a6a",
   "metadata": {},
   "outputs": [
    {
     "data": {
      "text/plain": [
       "torch.float32"
      ]
     },
     "execution_count": 23,
     "metadata": {},
     "output_type": "execute_result"
    }
   ],
   "source": [
    "cont_values.dtype"
   ]
  },
  {
   "cell_type": "code",
   "execution_count": 24,
   "id": "9149bf10-3012-447d-90b6-a05735ac1413",
   "metadata": {},
   "outputs": [
    {
     "data": {
      "text/plain": [
       "tensor([[208500.],\n",
       "        [181500.],\n",
       "        [223500.],\n",
       "        ...,\n",
       "        [266500.],\n",
       "        [142125.],\n",
       "        [147500.]])"
      ]
     },
     "execution_count": 24,
     "metadata": {},
     "output_type": "execute_result"
    }
   ],
   "source": [
    "### Dependent Feature \n",
    "y=torch.tensor(df['SalePrice'].values,dtype=torch.float).reshape(-1,1)\n",
    "y"
   ]
  },
  {
   "cell_type": "code",
   "execution_count": 25,
   "id": "339b03fd-50d5-4a1c-9a2f-b89f795a9f7f",
   "metadata": {},
   "outputs": [
    {
     "name": "stdout",
     "output_type": "stream",
     "text": [
      "<class 'pandas.core.frame.DataFrame'>\n",
      "Index: 1201 entries, 0 to 1459\n",
      "Data columns (total 10 columns):\n",
      " #   Column       Non-Null Count  Dtype  \n",
      "---  ------       --------------  -----  \n",
      " 0   MSSubClass   1201 non-null   int64  \n",
      " 1   MSZoning     1201 non-null   int32  \n",
      " 2   LotFrontage  1201 non-null   float64\n",
      " 3   LotArea      1201 non-null   int64  \n",
      " 4   Street       1201 non-null   int32  \n",
      " 5   LotShape     1201 non-null   int32  \n",
      " 6   1stFlrSF     1201 non-null   int64  \n",
      " 7   2ndFlrSF     1201 non-null   int64  \n",
      " 8   SalePrice    1201 non-null   int64  \n",
      " 9   Total Years  1201 non-null   int64  \n",
      "dtypes: float64(1), int32(3), int64(6)\n",
      "memory usage: 89.1 KB\n"
     ]
    }
   ],
   "source": [
    "df.info()"
   ]
  },
  {
   "cell_type": "code",
   "execution_count": 26,
   "id": "3f2a4ca9-f264-40ac-b17d-16b900eb46f4",
   "metadata": {},
   "outputs": [
    {
     "data": {
      "text/plain": [
       "(torch.Size([1201, 4]), torch.Size([1201, 5]), torch.Size([1201, 1]))"
      ]
     },
     "execution_count": 26,
     "metadata": {},
     "output_type": "execute_result"
    }
   ],
   "source": [
    "cat_features.shape, cont_values.shape, y.shape"
   ]
  },
  {
   "cell_type": "code",
   "execution_count": 27,
   "id": "6eed01db-fcef-47b3-b84e-11ddefc4d8b4",
   "metadata": {},
   "outputs": [
    {
     "data": {
      "text/plain": [
       "15"
      ]
     },
     "execution_count": 27,
     "metadata": {},
     "output_type": "execute_result"
    }
   ],
   "source": [
    "len(df['MSSubClass'].unique())"
   ]
  },
  {
   "cell_type": "markdown",
   "id": "f3f7ceb3-42bb-4e4e-bbcd-b3fc92d73b06",
   "metadata": {},
   "source": [
    "#### Embedding size for Categorical Columns"
   ]
  },
  {
   "cell_type": "code",
   "execution_count": 28,
   "id": "86cc71ef-7aaa-4873-b947-41e8948cf960",
   "metadata": {},
   "outputs": [
    {
     "data": {
      "text/plain": [
       "15"
      ]
     },
     "execution_count": 28,
     "metadata": {},
     "output_type": "execute_result"
    }
   ],
   "source": [
    "len(df['MSSubClass'].unique())"
   ]
  },
  {
   "cell_type": "code",
   "execution_count": 29,
   "id": "e2eaeaa5-8be2-415b-a2af-6253bf3da90b",
   "metadata": {},
   "outputs": [
    {
     "data": {
      "text/plain": [
       "[15, 5, 2, 4]"
      ]
     },
     "execution_count": 29,
     "metadata": {},
     "output_type": "execute_result"
    }
   ],
   "source": [
    "cat_dims = [len(df[col].unique()) for col in ['MSSubClass', 'MSZoning', \"Street\", \"LotShape\"]]\n",
    "cat_dims # ---> Input Dimention"
   ]
  },
  {
   "cell_type": "code",
   "execution_count": 30,
   "id": "ae656904-e7c7-4d97-9f4f-725252b8e3f7",
   "metadata": {},
   "outputs": [],
   "source": [
    "### output dimension should be set based on the input dimension(min(50, feature dimension/2)\n",
    "embedding_dim = [(x, min(50, (x+1) //2 )) for x in cat_dims]\n"
   ]
  },
  {
   "cell_type": "code",
   "execution_count": 31,
   "id": "fbe7c555-5b95-41b2-a5a4-be3474cfcd46",
   "metadata": {},
   "outputs": [
    {
     "data": {
      "text/plain": [
       "[(15, 8), (5, 3), (2, 1), (4, 2)]"
      ]
     },
     "execution_count": 31,
     "metadata": {},
     "output_type": "execute_result"
    }
   ],
   "source": [
    "#preprocessing steps\n",
    "embedding_dim"
   ]
  },
  {
   "cell_type": "code",
   "execution_count": 32,
   "id": "de33a5f5-1c1a-47d7-8ae7-9304551772ae",
   "metadata": {},
   "outputs": [
    {
     "data": {
      "text/plain": [
       "ModuleList(\n",
       "  (0): Embedding(15, 8)\n",
       "  (1): Embedding(5, 3)\n",
       "  (2): Embedding(2, 1)\n",
       "  (3): Embedding(4, 2)\n",
       ")"
      ]
     },
     "execution_count": 32,
     "metadata": {},
     "output_type": "execute_result"
    }
   ],
   "source": [
    "import torch\n",
    "import torch.nn as nn\n",
    "import torch.nn.functional as F\n",
    "embed_representation=nn.ModuleList([nn.Embedding(inp,out) for inp,out in embedding_dim])\n",
    "embed_representation"
   ]
  },
  {
   "cell_type": "code",
   "execution_count": 33,
   "id": "370122e8-4e90-48d7-b5ec-b68e18e39579",
   "metadata": {},
   "outputs": [
    {
     "data": {
      "text/plain": [
       "tensor([[5, 3, 1, 3],\n",
       "        [0, 3, 1, 3],\n",
       "        [5, 3, 1, 0],\n",
       "        ...,\n",
       "        [6, 3, 1, 3],\n",
       "        [0, 3, 1, 3],\n",
       "        [0, 3, 1, 3]])"
      ]
     },
     "execution_count": 33,
     "metadata": {},
     "output_type": "execute_result"
    }
   ],
   "source": [
    "cat_features"
   ]
  },
  {
   "cell_type": "code",
   "execution_count": 34,
   "id": "0218800e-3c98-405c-8788-8fada9df037f",
   "metadata": {},
   "outputs": [
    {
     "data": {
      "text/plain": [
       "tensor([[5, 3, 1, 3],\n",
       "        [0, 3, 1, 3],\n",
       "        [5, 3, 1, 0],\n",
       "        [6, 3, 1, 0]])"
      ]
     },
     "execution_count": 34,
     "metadata": {},
     "output_type": "execute_result"
    }
   ],
   "source": [
    "cat_featurez = cat_features[:4]\n",
    "cat_featurez"
   ]
  },
  {
   "cell_type": "code",
   "execution_count": 35,
   "id": "3f227fb7-91ed-4afe-8d20-fcb7dc141c00",
   "metadata": {},
   "outputs": [],
   "source": [
    "pd.set_option('display.max_rows', 500)\n",
    "embedding_val = []\n",
    "for i,e in enumerate(embed_representation):\n",
    "    embedding_val.append(e(cat_features[:,i]))"
   ]
  },
  {
   "cell_type": "code",
   "execution_count": 36,
   "id": "c2cce3b2-013a-4abe-8cc1-78528190ae84",
   "metadata": {},
   "outputs": [
    {
     "data": {
      "text/plain": [
       "[tensor([[-0.0131,  1.1290, -1.0849,  ..., -0.3575,  1.8917,  0.6586],\n",
       "         [-0.1915,  1.0969,  1.1980,  ..., -0.1082, -0.6462,  2.5962],\n",
       "         [-0.0131,  1.1290, -1.0849,  ..., -0.3575,  1.8917,  0.6586],\n",
       "         ...,\n",
       "         [-0.2748,  0.9458, -0.5089,  ...,  1.1769,  2.0202, -1.2086],\n",
       "         [-0.1915,  1.0969,  1.1980,  ..., -0.1082, -0.6462,  2.5962],\n",
       "         [-0.1915,  1.0969,  1.1980,  ..., -0.1082, -0.6462,  2.5962]],\n",
       "        grad_fn=<EmbeddingBackward0>),\n",
       " tensor([[ 0.1733,  0.1968, -0.2283],\n",
       "         [ 0.1733,  0.1968, -0.2283],\n",
       "         [ 0.1733,  0.1968, -0.2283],\n",
       "         ...,\n",
       "         [ 0.1733,  0.1968, -0.2283],\n",
       "         [ 0.1733,  0.1968, -0.2283],\n",
       "         [ 0.1733,  0.1968, -0.2283]], grad_fn=<EmbeddingBackward0>),\n",
       " tensor([[0.5246],\n",
       "         [0.5246],\n",
       "         [0.5246],\n",
       "         ...,\n",
       "         [0.5246],\n",
       "         [0.5246],\n",
       "         [0.5246]], grad_fn=<EmbeddingBackward0>),\n",
       " tensor([[-0.4587, -0.3125],\n",
       "         [-0.4587, -0.3125],\n",
       "         [-1.2641,  0.1536],\n",
       "         ...,\n",
       "         [-0.4587, -0.3125],\n",
       "         [-0.4587, -0.3125],\n",
       "         [-0.4587, -0.3125]], grad_fn=<EmbeddingBackward0>)]"
      ]
     },
     "execution_count": 36,
     "metadata": {},
     "output_type": "execute_result"
    }
   ],
   "source": [
    "embedding_val"
   ]
  },
  {
   "cell_type": "code",
   "execution_count": 37,
   "id": "cbae8cfb-395c-44b2-9b89-6bd1d26efb3b",
   "metadata": {},
   "outputs": [
    {
     "data": {
      "text/plain": [
       "tensor([[-0.0131,  1.1290, -1.0849,  ...,  0.5246, -0.4587, -0.3125],\n",
       "        [-0.1915,  1.0969,  1.1980,  ...,  0.5246, -0.4587, -0.3125],\n",
       "        [-0.0131,  1.1290, -1.0849,  ...,  0.5246, -1.2641,  0.1536],\n",
       "        ...,\n",
       "        [-0.2748,  0.9458, -0.5089,  ...,  0.5246, -0.4587, -0.3125],\n",
       "        [-0.1915,  1.0969,  1.1980,  ...,  0.5246, -0.4587, -0.3125],\n",
       "        [-0.1915,  1.0969,  1.1980,  ...,  0.5246, -0.4587, -0.3125]],\n",
       "       grad_fn=<CatBackward0>)"
      ]
     },
     "execution_count": 37,
     "metadata": {},
     "output_type": "execute_result"
    }
   ],
   "source": [
    "z = torch.cat(embedding_val, 1)\n",
    "z"
   ]
  },
  {
   "cell_type": "code",
   "execution_count": 38,
   "id": "d3818913-ba78-44eb-819c-0456d1940f55",
   "metadata": {},
   "outputs": [],
   "source": [
    "## Implement dorpout\n",
    "dropout = nn.Dropout(.4)"
   ]
  },
  {
   "cell_type": "code",
   "execution_count": 39,
   "id": "b91e703b-5f34-4e72-8601-7143257a5dd5",
   "metadata": {},
   "outputs": [
    {
     "data": {
      "text/plain": [
       "tensor([[-0.0218,  1.8816, -1.8081,  ...,  0.8744, -0.7645, -0.5209],\n",
       "        [-0.3192,  1.8282,  0.0000,  ...,  0.0000, -0.0000, -0.5209],\n",
       "        [-0.0218,  1.8816, -1.8081,  ...,  0.8744, -2.1068,  0.0000],\n",
       "        ...,\n",
       "        [-0.0000,  0.0000, -0.8481,  ...,  0.0000, -0.0000, -0.5209],\n",
       "        [-0.3192,  1.8282,  0.0000,  ...,  0.8744, -0.0000, -0.5209],\n",
       "        [-0.0000,  1.8282,  1.9967,  ...,  0.0000, -0.7645, -0.5209]],\n",
       "       grad_fn=<MulBackward0>)"
      ]
     },
     "execution_count": 39,
     "metadata": {},
     "output_type": "execute_result"
    }
   ],
   "source": [
    "final_embed = dropout(z)\n",
    "final_embed"
   ]
  },
  {
   "cell_type": "code",
   "execution_count": 40,
   "id": "b763ffb9-8942-4872-b639-9dca3a5c18e9",
   "metadata": {},
   "outputs": [],
   "source": [
    "##### Create a Feed Forward Neural Network\n",
    "import torch\n",
    "import torch.nn as nn\n",
    "import torch.nn.functional as F\n",
    "class FeedForwardNN(nn.Module):\n",
    "\n",
    "    def __init__(self, embedding_dim, n_cont, out_sz, layers, p=0.5):\n",
    "        super().__init__()\n",
    "        self.embeds = nn.ModuleList([nn.Embedding(inp,out) for inp,out in embedding_dim])\n",
    "        self.emb_drop = nn.Dropout(p)\n",
    "        self.bn_cont = nn.BatchNorm1d(n_cont)\n",
    "        \n",
    "        layerlist = []\n",
    "        n_emb = sum((out for inp,out in embedding_dim))\n",
    "        n_in = n_emb + n_cont\n",
    "        \n",
    "        for i in layers:\n",
    "            layerlist.append(nn.Linear(n_in,i)) \n",
    "            layerlist.append(nn.ReLU(inplace=True))\n",
    "            layerlist.append(nn.BatchNorm1d(i))\n",
    "            layerlist.append(nn.Dropout(p))\n",
    "            n_in = i\n",
    "        layerlist.append(nn.Linear(layers[-1],out_sz))\n",
    "            \n",
    "        self.layers = nn.Sequential(*layerlist)\n",
    "    \n",
    "    def forward(self, x_cat, x_cont):\n",
    "        embeddings = []\n",
    "        for i,e in enumerate(self.embeds):\n",
    "            embeddings.append(e(x_cat[:,i]))\n",
    "        x = torch.cat(embeddings, 1)\n",
    "        x = self.emb_drop(x)\n",
    "        \n",
    "        x_cont = self.bn_cont(x_cont)\n",
    "        x = torch.cat([x, x_cont], 1)\n",
    "        x = self.layers(x)\n",
    "        return x"
   ]
  },
  {
   "cell_type": "code",
   "execution_count": 41,
   "id": "b897eaf5-6d7d-48a4-989b-52fb57911989",
   "metadata": {},
   "outputs": [
    {
     "data": {
      "text/plain": [
       "5"
      ]
     },
     "execution_count": 41,
     "metadata": {},
     "output_type": "execute_result"
    }
   ],
   "source": [
    "len(cont_features)"
   ]
  },
  {
   "cell_type": "code",
   "execution_count": 42,
   "id": "68b9fc6b-eefd-4880-8458-f07cd6295aec",
   "metadata": {},
   "outputs": [],
   "source": [
    "torch.manual_seed(100)\n",
    "model=FeedForwardNN(embedding_dim,len(cont_features),1,[100,50],p=0.4)"
   ]
  },
  {
   "cell_type": "code",
   "execution_count": 43,
   "id": "d37e69fd-ffe9-4019-a5ec-a8289b14ee9e",
   "metadata": {},
   "outputs": [
    {
     "data": {
      "text/plain": [
       "FeedForwardNN(\n",
       "  (embeds): ModuleList(\n",
       "    (0): Embedding(15, 8)\n",
       "    (1): Embedding(5, 3)\n",
       "    (2): Embedding(2, 1)\n",
       "    (3): Embedding(4, 2)\n",
       "  )\n",
       "  (emb_drop): Dropout(p=0.4, inplace=False)\n",
       "  (bn_cont): BatchNorm1d(5, eps=1e-05, momentum=0.1, affine=True, track_running_stats=True)\n",
       "  (layers): Sequential(\n",
       "    (0): Linear(in_features=19, out_features=100, bias=True)\n",
       "    (1): ReLU(inplace=True)\n",
       "    (2): BatchNorm1d(100, eps=1e-05, momentum=0.1, affine=True, track_running_stats=True)\n",
       "    (3): Dropout(p=0.4, inplace=False)\n",
       "    (4): Linear(in_features=100, out_features=50, bias=True)\n",
       "    (5): ReLU(inplace=True)\n",
       "    (6): BatchNorm1d(50, eps=1e-05, momentum=0.1, affine=True, track_running_stats=True)\n",
       "    (7): Dropout(p=0.4, inplace=False)\n",
       "    (8): Linear(in_features=50, out_features=1, bias=True)\n",
       "  )\n",
       ")"
      ]
     },
     "execution_count": 43,
     "metadata": {},
     "output_type": "execute_result"
    }
   ],
   "source": [
    "model"
   ]
  },
  {
   "cell_type": "markdown",
   "id": "0cce7dcc-3052-43f8-991a-473beb23ddfc",
   "metadata": {},
   "source": [
    "### Define Loss And Optimizer"
   ]
  },
  {
   "cell_type": "code",
   "execution_count": 44,
   "id": "f6c560cb-2c67-4430-be6e-0d1a62aa12b9",
   "metadata": {},
   "outputs": [],
   "source": [
    "loss_function = nn.MSELoss() ## Later convert to RMSE\n",
    "optimizer = torch.optim.Adam(model.parameters(), lr=0.01)"
   ]
  },
  {
   "cell_type": "code",
   "execution_count": 45,
   "id": "154f074e-821e-49c8-9fc1-dd592b46b05b",
   "metadata": {},
   "outputs": [
    {
     "data": {
      "text/plain": [
       "(1201, 10)"
      ]
     },
     "execution_count": 45,
     "metadata": {},
     "output_type": "execute_result"
    }
   ],
   "source": [
    "df.shape"
   ]
  },
  {
   "cell_type": "code",
   "execution_count": 46,
   "id": "a8c4db0c-5b37-460c-91d1-bf323499ad8b",
   "metadata": {},
   "outputs": [
    {
     "data": {
      "text/plain": [
       "tensor([[   65.,  8450.,   856.,   854.,    22.],\n",
       "        [   80.,  9600.,  1262.,     0.,    49.],\n",
       "        [   68., 11250.,   920.,   866.,    24.],\n",
       "        ...,\n",
       "        [   66.,  9042.,  1188.,  1152.,    84.],\n",
       "        [   68.,  9717.,  1078.,     0.,    75.],\n",
       "        [   75.,  9937.,  1256.,     0.,    60.]])"
      ]
     },
     "execution_count": 46,
     "metadata": {},
     "output_type": "execute_result"
    }
   ],
   "source": [
    "cont_values"
   ]
  },
  {
   "cell_type": "code",
   "execution_count": 47,
   "id": "7407089c-39bc-49e8-9663-df9d2b85256f",
   "metadata": {},
   "outputs": [
    {
     "data": {
      "text/plain": [
       "torch.Size([1201, 5])"
      ]
     },
     "execution_count": 47,
     "metadata": {},
     "output_type": "execute_result"
    }
   ],
   "source": [
    "cont_values.shape"
   ]
  },
  {
   "cell_type": "code",
   "execution_count": 48,
   "id": "541ee038-d50d-47a6-8c5a-8eb16ef70b76",
   "metadata": {},
   "outputs": [],
   "source": [
    "batch_size=1200\n",
    "test_size=int(batch_size*0.15)\n",
    "train_categorical=cat_features[:batch_size-test_size]\n",
    "test_categorical=cat_features[batch_size-test_size:batch_size]\n",
    "train_cont=cont_values[:batch_size-test_size]\n",
    "test_cont=cont_values[batch_size-test_size:batch_size]\n",
    "y_train=y[:batch_size-test_size]\n",
    "y_test=y[batch_size-test_size:batch_size]"
   ]
  },
  {
   "cell_type": "code",
   "execution_count": 49,
   "id": "d1e5d149-e4c3-4cbb-bb29-5b128401f77c",
   "metadata": {},
   "outputs": [
    {
     "data": {
      "text/plain": [
       "(1020, 180, 1020, 180, 1020, 180)"
      ]
     },
     "execution_count": 49,
     "metadata": {},
     "output_type": "execute_result"
    }
   ],
   "source": [
    "len(train_categorical),len(test_categorical),len(train_cont),len(test_cont),len(y_train),len(y_test)"
   ]
  },
  {
   "cell_type": "code",
   "execution_count": 50,
   "id": "e15134f9-a8a0-41b6-862e-6b0dfda5756d",
   "metadata": {},
   "outputs": [
    {
     "name": "stdout",
     "output_type": "stream",
     "text": [
      "Epoch number: 1 and the loss : 200496.765625\n",
      "Epoch number: 11 and the loss : 200493.59375\n",
      "Epoch number: 21 and the loss : 200489.125\n",
      "Epoch number: 31 and the loss : 200482.53125\n",
      "Epoch number: 41 and the loss : 200473.234375\n",
      "Epoch number: 51 and the loss : 200462.140625\n",
      "Epoch number: 61 and the loss : 200447.328125\n",
      "Epoch number: 71 and the loss : 200429.125\n",
      "Epoch number: 81 and the loss : 200409.15625\n",
      "Epoch number: 91 and the loss : 200382.0625\n",
      "Epoch number: 101 and the loss : 200354.703125\n",
      "Epoch number: 111 and the loss : 200322.875\n",
      "Epoch number: 121 and the loss : 200290.25\n",
      "Epoch number: 131 and the loss : 200254.046875\n",
      "Epoch number: 141 and the loss : 200212.734375\n",
      "Epoch number: 151 and the loss : 200162.328125\n",
      "Epoch number: 161 and the loss : 200115.859375\n",
      "Epoch number: 171 and the loss : 200058.203125\n",
      "Epoch number: 181 and the loss : 200002.15625\n",
      "Epoch number: 191 and the loss : 199942.53125\n",
      "Epoch number: 201 and the loss : 199876.84375\n",
      "Epoch number: 211 and the loss : 199808.28125\n",
      "Epoch number: 221 and the loss : 199750.25\n",
      "Epoch number: 231 and the loss : 199665.25\n",
      "Epoch number: 241 and the loss : 199600.21875\n",
      "Epoch number: 251 and the loss : 199522.359375\n",
      "Epoch number: 261 and the loss : 199416.828125\n",
      "Epoch number: 271 and the loss : 199331.328125\n",
      "Epoch number: 281 and the loss : 199237.671875\n",
      "Epoch number: 291 and the loss : 199147.484375\n",
      "Epoch number: 301 and the loss : 199042.5\n",
      "Epoch number: 311 and the loss : 198929.703125\n",
      "Epoch number: 321 and the loss : 198817.140625\n",
      "Epoch number: 331 and the loss : 198737.0625\n",
      "Epoch number: 341 and the loss : 198603.140625\n",
      "Epoch number: 351 and the loss : 198470.90625\n",
      "Epoch number: 361 and the loss : 198414.59375\n",
      "Epoch number: 371 and the loss : 198219.15625\n",
      "Epoch number: 381 and the loss : 198099.65625\n",
      "Epoch number: 391 and the loss : 197978.6875\n",
      "Epoch number: 401 and the loss : 197877.921875\n",
      "Epoch number: 411 and the loss : 197722.46875\n",
      "Epoch number: 421 and the loss : 197535.796875\n",
      "Epoch number: 431 and the loss : 197464.0625\n",
      "Epoch number: 441 and the loss : 197309.625\n",
      "Epoch number: 451 and the loss : 197116.546875\n",
      "Epoch number: 461 and the loss : 196978.03125\n",
      "Epoch number: 471 and the loss : 196846.9375\n",
      "Epoch number: 481 and the loss : 196670.46875\n",
      "Epoch number: 491 and the loss : 196516.515625\n",
      "Epoch number: 501 and the loss : 196372.25\n",
      "Epoch number: 511 and the loss : 196149.046875\n",
      "Epoch number: 521 and the loss : 196043.203125\n",
      "Epoch number: 531 and the loss : 195782.453125\n",
      "Epoch number: 541 and the loss : 195654.078125\n",
      "Epoch number: 551 and the loss : 195512.15625\n",
      "Epoch number: 561 and the loss : 195210.046875\n",
      "Epoch number: 571 and the loss : 195119.21875\n",
      "Epoch number: 581 and the loss : 194879.53125\n",
      "Epoch number: 591 and the loss : 194728.640625\n",
      "Epoch number: 601 and the loss : 194468.328125\n",
      "Epoch number: 611 and the loss : 194312.03125\n",
      "Epoch number: 621 and the loss : 194058.78125\n",
      "Epoch number: 631 and the loss : 193846.953125\n",
      "Epoch number: 641 and the loss : 193677.328125\n",
      "Epoch number: 651 and the loss : 193547.078125\n",
      "Epoch number: 661 and the loss : 193236.265625\n",
      "Epoch number: 671 and the loss : 193035.5625\n",
      "Epoch number: 681 and the loss : 192837.65625\n",
      "Epoch number: 691 and the loss : 192618.046875\n",
      "Epoch number: 701 and the loss : 192308.25\n",
      "Epoch number: 711 and the loss : 192051.359375\n",
      "Epoch number: 721 and the loss : 192044.984375\n",
      "Epoch number: 731 and the loss : 191757.28125\n",
      "Epoch number: 741 and the loss : 191356.796875\n",
      "Epoch number: 751 and the loss : 191273.96875\n",
      "Epoch number: 761 and the loss : 191010.0625\n",
      "Epoch number: 771 and the loss : 190755.640625\n",
      "Epoch number: 781 and the loss : 190453.703125\n",
      "Epoch number: 791 and the loss : 190265.578125\n",
      "Epoch number: 801 and the loss : 190076.15625\n",
      "Epoch number: 811 and the loss : 189778.515625\n",
      "Epoch number: 821 and the loss : 189401.609375\n",
      "Epoch number: 831 and the loss : 189205.625\n",
      "Epoch number: 841 and the loss : 188986.953125\n",
      "Epoch number: 851 and the loss : 188684.015625\n",
      "Epoch number: 861 and the loss : 188453.3125\n",
      "Epoch number: 871 and the loss : 188212.90625\n",
      "Epoch number: 881 and the loss : 187730.90625\n",
      "Epoch number: 891 and the loss : 187509.390625\n",
      "Epoch number: 901 and the loss : 187339.046875\n",
      "Epoch number: 911 and the loss : 186941.46875\n",
      "Epoch number: 921 and the loss : 186811.859375\n",
      "Epoch number: 931 and the loss : 186529.546875\n",
      "Epoch number: 941 and the loss : 186231.25\n",
      "Epoch number: 951 and the loss : 185868.21875\n",
      "Epoch number: 961 and the loss : 185570.796875\n",
      "Epoch number: 971 and the loss : 185157.578125\n",
      "Epoch number: 981 and the loss : 184889.203125\n",
      "Epoch number: 991 and the loss : 184716.265625\n",
      "Epoch number: 1001 and the loss : 184425.484375\n",
      "Epoch number: 1011 and the loss : 184282.1875\n",
      "Epoch number: 1021 and the loss : 183656.53125\n",
      "Epoch number: 1031 and the loss : 183504.390625\n",
      "Epoch number: 1041 and the loss : 182974.390625\n",
      "Epoch number: 1051 and the loss : 182691.875\n",
      "Epoch number: 1061 and the loss : 182516.375\n",
      "Epoch number: 1071 and the loss : 182328.890625\n",
      "Epoch number: 1081 and the loss : 181818.015625\n",
      "Epoch number: 1091 and the loss : 181448.796875\n",
      "Epoch number: 1101 and the loss : 181182.859375\n",
      "Epoch number: 1111 and the loss : 180788.734375\n",
      "Epoch number: 1121 and the loss : 180569.34375\n",
      "Epoch number: 1131 and the loss : 180327.5625\n",
      "Epoch number: 1141 and the loss : 179748.3125\n",
      "Epoch number: 1151 and the loss : 179355.46875\n",
      "Epoch number: 1161 and the loss : 179328.8125\n",
      "Epoch number: 1171 and the loss : 179160.765625\n",
      "Epoch number: 1181 and the loss : 178480.0\n",
      "Epoch number: 1191 and the loss : 178256.125\n",
      "Epoch number: 1201 and the loss : 177561.5625\n",
      "Epoch number: 1211 and the loss : 177266.71875\n",
      "Epoch number: 1221 and the loss : 177042.65625\n",
      "Epoch number: 1231 and the loss : 177061.53125\n",
      "Epoch number: 1241 and the loss : 176589.65625\n",
      "Epoch number: 1251 and the loss : 176361.984375\n",
      "Epoch number: 1261 and the loss : 175240.4375\n",
      "Epoch number: 1271 and the loss : 175289.671875\n",
      "Epoch number: 1281 and the loss : 174669.1875\n",
      "Epoch number: 1291 and the loss : 174585.203125\n",
      "Epoch number: 1301 and the loss : 173873.375\n",
      "Epoch number: 1311 and the loss : 173736.609375\n",
      "Epoch number: 1321 and the loss : 173469.46875\n",
      "Epoch number: 1331 and the loss : 172964.078125\n",
      "Epoch number: 1341 and the loss : 172509.6875\n",
      "Epoch number: 1351 and the loss : 172475.890625\n",
      "Epoch number: 1361 and the loss : 171950.5625\n",
      "Epoch number: 1371 and the loss : 171576.609375\n",
      "Epoch number: 1381 and the loss : 171015.375\n",
      "Epoch number: 1391 and the loss : 170504.640625\n",
      "Epoch number: 1401 and the loss : 170407.5625\n",
      "Epoch number: 1411 and the loss : 169752.109375\n",
      "Epoch number: 1421 and the loss : 169750.234375\n",
      "Epoch number: 1431 and the loss : 169277.703125\n",
      "Epoch number: 1441 and the loss : 169109.203125\n",
      "Epoch number: 1451 and the loss : 168303.859375\n",
      "Epoch number: 1461 and the loss : 167974.59375\n",
      "Epoch number: 1471 and the loss : 167832.453125\n",
      "Epoch number: 1481 and the loss : 167657.859375\n",
      "Epoch number: 1491 and the loss : 166596.265625\n",
      "Epoch number: 1501 and the loss : 166405.34375\n",
      "Epoch number: 1511 and the loss : 165964.96875\n",
      "Epoch number: 1521 and the loss : 165535.984375\n",
      "Epoch number: 1531 and the loss : 164813.640625\n",
      "Epoch number: 1541 and the loss : 164422.765625\n",
      "Epoch number: 1551 and the loss : 164322.46875\n",
      "Epoch number: 1561 and the loss : 163916.375\n",
      "Epoch number: 1571 and the loss : 163572.421875\n",
      "Epoch number: 1581 and the loss : 162817.40625\n",
      "Epoch number: 1591 and the loss : 162963.703125\n",
      "Epoch number: 1601 and the loss : 161896.96875\n",
      "Epoch number: 1611 and the loss : 161489.90625\n",
      "Epoch number: 1621 and the loss : 161556.15625\n",
      "Epoch number: 1631 and the loss : 161219.390625\n",
      "Epoch number: 1641 and the loss : 160043.5625\n",
      "Epoch number: 1651 and the loss : 159734.265625\n",
      "Epoch number: 1661 and the loss : 160490.3125\n",
      "Epoch number: 1671 and the loss : 159171.5\n",
      "Epoch number: 1681 and the loss : 158881.9375\n",
      "Epoch number: 1691 and the loss : 158420.96875\n",
      "Epoch number: 1701 and the loss : 157958.53125\n",
      "Epoch number: 1711 and the loss : 157214.765625\n",
      "Epoch number: 1721 and the loss : 156851.140625\n",
      "Epoch number: 1731 and the loss : 156645.6875\n",
      "Epoch number: 1741 and the loss : 156046.03125\n",
      "Epoch number: 1751 and the loss : 156174.828125\n",
      "Epoch number: 1761 and the loss : 155187.78125\n",
      "Epoch number: 1771 and the loss : 154266.703125\n",
      "Epoch number: 1781 and the loss : 153743.234375\n",
      "Epoch number: 1791 and the loss : 153932.078125\n",
      "Epoch number: 1801 and the loss : 153680.609375\n",
      "Epoch number: 1811 and the loss : 152886.78125\n",
      "Epoch number: 1821 and the loss : 151986.25\n",
      "Epoch number: 1831 and the loss : 151381.5\n",
      "Epoch number: 1841 and the loss : 151602.84375\n",
      "Epoch number: 1851 and the loss : 151400.15625\n",
      "Epoch number: 1861 and the loss : 150524.3125\n",
      "Epoch number: 1871 and the loss : 150347.34375\n",
      "Epoch number: 1881 and the loss : 150068.5\n",
      "Epoch number: 1891 and the loss : 149298.34375\n",
      "Epoch number: 1901 and the loss : 149367.015625\n",
      "Epoch number: 1911 and the loss : 148269.40625\n",
      "Epoch number: 1921 and the loss : 147305.140625\n",
      "Epoch number: 1931 and the loss : 147710.296875\n",
      "Epoch number: 1941 and the loss : 146748.71875\n",
      "Epoch number: 1951 and the loss : 146048.796875\n",
      "Epoch number: 1961 and the loss : 145994.625\n",
      "Epoch number: 1971 and the loss : 146074.921875\n",
      "Epoch number: 1981 and the loss : 145318.03125\n",
      "Epoch number: 1991 and the loss : 144216.6875\n",
      "Epoch number: 2001 and the loss : 143741.9375\n",
      "Epoch number: 2011 and the loss : 143532.40625\n",
      "Epoch number: 2021 and the loss : 142869.46875\n",
      "Epoch number: 2031 and the loss : 142341.53125\n",
      "Epoch number: 2041 and the loss : 142621.3125\n",
      "Epoch number: 2051 and the loss : 141752.890625\n",
      "Epoch number: 2061 and the loss : 141188.03125\n",
      "Epoch number: 2071 and the loss : 140859.546875\n",
      "Epoch number: 2081 and the loss : 139805.1875\n",
      "Epoch number: 2091 and the loss : 140877.890625\n",
      "Epoch number: 2101 and the loss : 138944.171875\n",
      "Epoch number: 2111 and the loss : 138933.609375\n",
      "Epoch number: 2121 and the loss : 137797.8125\n",
      "Epoch number: 2131 and the loss : 137264.265625\n",
      "Epoch number: 2141 and the loss : 136876.53125\n",
      "Epoch number: 2151 and the loss : 136769.140625\n",
      "Epoch number: 2161 and the loss : 136850.296875\n",
      "Epoch number: 2171 and the loss : 136004.3125\n",
      "Epoch number: 2181 and the loss : 135808.21875\n",
      "Epoch number: 2191 and the loss : 134540.140625\n",
      "Epoch number: 2201 and the loss : 135189.90625\n",
      "Epoch number: 2211 and the loss : 133881.875\n",
      "Epoch number: 2221 and the loss : 133344.59375\n",
      "Epoch number: 2231 and the loss : 133754.328125\n",
      "Epoch number: 2241 and the loss : 131931.5625\n",
      "Epoch number: 2251 and the loss : 131306.359375\n",
      "Epoch number: 2261 and the loss : 131293.671875\n",
      "Epoch number: 2271 and the loss : 130527.9296875\n",
      "Epoch number: 2281 and the loss : 130674.9453125\n",
      "Epoch number: 2291 and the loss : 129513.4453125\n",
      "Epoch number: 2301 and the loss : 128724.9765625\n",
      "Epoch number: 2311 and the loss : 129617.609375\n",
      "Epoch number: 2321 and the loss : 128889.3359375\n",
      "Epoch number: 2331 and the loss : 127643.796875\n",
      "Epoch number: 2341 and the loss : 127119.3046875\n",
      "Epoch number: 2351 and the loss : 126778.03125\n",
      "Epoch number: 2361 and the loss : 125894.8125\n",
      "Epoch number: 2371 and the loss : 125451.671875\n",
      "Epoch number: 2381 and the loss : 125307.8984375\n",
      "Epoch number: 2391 and the loss : 124557.90625\n",
      "Epoch number: 2401 and the loss : 124128.8671875\n",
      "Epoch number: 2411 and the loss : 123742.7265625\n",
      "Epoch number: 2421 and the loss : 123505.6015625\n",
      "Epoch number: 2431 and the loss : 122248.3359375\n",
      "Epoch number: 2441 and the loss : 121840.6953125\n",
      "Epoch number: 2451 and the loss : 121924.3125\n",
      "Epoch number: 2461 and the loss : 120949.96875\n",
      "Epoch number: 2471 and the loss : 120522.0234375\n",
      "Epoch number: 2481 and the loss : 120316.4921875\n",
      "Epoch number: 2491 and the loss : 119760.203125\n",
      "Epoch number: 2501 and the loss : 119616.359375\n",
      "Epoch number: 2511 and the loss : 118480.34375\n",
      "Epoch number: 2521 and the loss : 117866.375\n",
      "Epoch number: 2531 and the loss : 119305.234375\n",
      "Epoch number: 2541 and the loss : 116629.7109375\n",
      "Epoch number: 2551 and the loss : 116859.765625\n",
      "Epoch number: 2561 and the loss : 116222.265625\n",
      "Epoch number: 2571 and the loss : 116002.265625\n",
      "Epoch number: 2581 and the loss : 115092.078125\n",
      "Epoch number: 2591 and the loss : 114813.9375\n",
      "Epoch number: 2601 and the loss : 113819.453125\n",
      "Epoch number: 2611 and the loss : 112952.1953125\n",
      "Epoch number: 2621 and the loss : 113137.6796875\n",
      "Epoch number: 2631 and the loss : 111821.6171875\n",
      "Epoch number: 2641 and the loss : 112299.046875\n",
      "Epoch number: 2651 and the loss : 111665.0\n",
      "Epoch number: 2661 and the loss : 109803.0\n",
      "Epoch number: 2671 and the loss : 111229.3359375\n",
      "Epoch number: 2681 and the loss : 110094.84375\n",
      "Epoch number: 2691 and the loss : 109760.4609375\n",
      "Epoch number: 2701 and the loss : 108788.78125\n",
      "Epoch number: 2711 and the loss : 109571.03125\n",
      "Epoch number: 2721 and the loss : 108559.1015625\n",
      "Epoch number: 2731 and the loss : 107764.2890625\n",
      "Epoch number: 2741 and the loss : 107561.2265625\n",
      "Epoch number: 2751 and the loss : 107201.9140625\n",
      "Epoch number: 2761 and the loss : 106892.375\n",
      "Epoch number: 2771 and the loss : 105121.4765625\n",
      "Epoch number: 2781 and the loss : 105885.0078125\n",
      "Epoch number: 2791 and the loss : 105499.9765625\n",
      "Epoch number: 2801 and the loss : 103893.3359375\n",
      "Epoch number: 2811 and the loss : 104002.875\n",
      "Epoch number: 2821 and the loss : 102855.3359375\n",
      "Epoch number: 2831 and the loss : 102902.265625\n",
      "Epoch number: 2841 and the loss : 102081.9765625\n",
      "Epoch number: 2851 and the loss : 102312.6953125\n",
      "Epoch number: 2861 and the loss : 101487.5234375\n",
      "Epoch number: 2871 and the loss : 100787.9453125\n",
      "Epoch number: 2881 and the loss : 100907.171875\n",
      "Epoch number: 2891 and the loss : 101853.5625\n",
      "Epoch number: 2901 and the loss : 99281.5703125\n",
      "Epoch number: 2911 and the loss : 99184.28125\n",
      "Epoch number: 2921 and the loss : 97639.703125\n",
      "Epoch number: 2931 and the loss : 97217.9921875\n",
      "Epoch number: 2941 and the loss : 96877.4609375\n",
      "Epoch number: 2951 and the loss : 96084.9921875\n",
      "Epoch number: 2961 and the loss : 96566.1328125\n",
      "Epoch number: 2971 and the loss : 95527.125\n",
      "Epoch number: 2981 and the loss : 95492.6640625\n",
      "Epoch number: 2991 and the loss : 94679.390625\n",
      "Epoch number: 3001 and the loss : 94402.0390625\n",
      "Epoch number: 3011 and the loss : 93598.421875\n",
      "Epoch number: 3021 and the loss : 93851.4140625\n",
      "Epoch number: 3031 and the loss : 92996.40625\n",
      "Epoch number: 3041 and the loss : 92543.0078125\n",
      "Epoch number: 3051 and the loss : 91738.140625\n",
      "Epoch number: 3061 and the loss : 91619.7421875\n",
      "Epoch number: 3071 and the loss : 91503.0625\n",
      "Epoch number: 3081 and the loss : 89324.8359375\n",
      "Epoch number: 3091 and the loss : 89230.1171875\n",
      "Epoch number: 3101 and the loss : 89448.1171875\n",
      "Epoch number: 3111 and the loss : 89106.875\n",
      "Epoch number: 3121 and the loss : 89336.8359375\n",
      "Epoch number: 3131 and the loss : 87824.3203125\n",
      "Epoch number: 3141 and the loss : 87333.0078125\n",
      "Epoch number: 3151 and the loss : 86610.3984375\n",
      "Epoch number: 3161 and the loss : 87086.921875\n",
      "Epoch number: 3171 and the loss : 85897.8125\n",
      "Epoch number: 3181 and the loss : 86062.234375\n",
      "Epoch number: 3191 and the loss : 84446.4453125\n",
      "Epoch number: 3201 and the loss : 85115.1640625\n",
      "Epoch number: 3211 and the loss : 85047.921875\n",
      "Epoch number: 3221 and the loss : 82480.2578125\n",
      "Epoch number: 3231 and the loss : 83153.8203125\n",
      "Epoch number: 3241 and the loss : 82511.59375\n",
      "Epoch number: 3251 and the loss : 82002.671875\n",
      "Epoch number: 3261 and the loss : 81909.3671875\n",
      "Epoch number: 3271 and the loss : 80685.3671875\n",
      "Epoch number: 3281 and the loss : 81384.3671875\n",
      "Epoch number: 3291 and the loss : 80050.421875\n",
      "Epoch number: 3301 and the loss : 79328.2265625\n",
      "Epoch number: 3311 and the loss : 78638.5546875\n",
      "Epoch number: 3321 and the loss : 78022.9453125\n",
      "Epoch number: 3331 and the loss : 79072.0703125\n",
      "Epoch number: 3341 and the loss : 77101.328125\n",
      "Epoch number: 3351 and the loss : 77340.6953125\n",
      "Epoch number: 3361 and the loss : 75508.1171875\n",
      "Epoch number: 3371 and the loss : 79317.5546875\n",
      "Epoch number: 3381 and the loss : 76178.90625\n",
      "Epoch number: 3391 and the loss : 75698.796875\n",
      "Epoch number: 3401 and the loss : 74154.6328125\n",
      "Epoch number: 3411 and the loss : 73996.21875\n",
      "Epoch number: 3421 and the loss : 73130.453125\n",
      "Epoch number: 3431 and the loss : 73117.078125\n",
      "Epoch number: 3441 and the loss : 74367.3203125\n",
      "Epoch number: 3451 and the loss : 72684.96875\n",
      "Epoch number: 3461 and the loss : 71716.2109375\n",
      "Epoch number: 3471 and the loss : 72844.9453125\n",
      "Epoch number: 3481 and the loss : 72004.140625\n",
      "Epoch number: 3491 and the loss : 70670.3828125\n",
      "Epoch number: 3501 and the loss : 70748.5703125\n",
      "Epoch number: 3511 and the loss : 69658.03125\n",
      "Epoch number: 3521 and the loss : 68530.1796875\n",
      "Epoch number: 3531 and the loss : 67671.0234375\n",
      "Epoch number: 3541 and the loss : 68890.3515625\n",
      "Epoch number: 3551 and the loss : 67484.8671875\n",
      "Epoch number: 3561 and the loss : 67099.078125\n",
      "Epoch number: 3571 and the loss : 65631.34375\n",
      "Epoch number: 3581 and the loss : 65371.4375\n",
      "Epoch number: 3591 and the loss : 65454.2890625\n",
      "Epoch number: 3601 and the loss : 64566.29296875\n",
      "Epoch number: 3611 and the loss : 63612.17578125\n",
      "Epoch number: 3621 and the loss : 63464.63671875\n",
      "Epoch number: 3631 and the loss : 65193.03125\n",
      "Epoch number: 3641 and the loss : 63011.70703125\n",
      "Epoch number: 3651 and the loss : 61885.8359375\n",
      "Epoch number: 3661 and the loss : 62993.671875\n",
      "Epoch number: 3671 and the loss : 61619.6328125\n",
      "Epoch number: 3681 and the loss : 61096.1328125\n",
      "Epoch number: 3691 and the loss : 61090.72265625\n",
      "Epoch number: 3701 and the loss : 60652.2265625\n",
      "Epoch number: 3711 and the loss : 60183.46875\n",
      "Epoch number: 3721 and the loss : 58491.53125\n",
      "Epoch number: 3731 and the loss : 59042.5390625\n",
      "Epoch number: 3741 and the loss : 59273.55859375\n",
      "Epoch number: 3751 and the loss : 58691.64453125\n",
      "Epoch number: 3761 and the loss : 58264.95703125\n",
      "Epoch number: 3771 and the loss : 58850.265625\n",
      "Epoch number: 3781 and the loss : 57454.41796875\n",
      "Epoch number: 3791 and the loss : 55724.21875\n",
      "Epoch number: 3801 and the loss : 56468.7265625\n",
      "Epoch number: 3811 and the loss : 55952.65625\n",
      "Epoch number: 3821 and the loss : 55760.4375\n",
      "Epoch number: 3831 and the loss : 55444.5\n",
      "Epoch number: 3841 and the loss : 54038.7421875\n",
      "Epoch number: 3851 and the loss : 54183.4609375\n",
      "Epoch number: 3861 and the loss : 53842.1875\n",
      "Epoch number: 3871 and the loss : 52970.1875\n",
      "Epoch number: 3881 and the loss : 52413.01953125\n",
      "Epoch number: 3891 and the loss : 51983.6953125\n",
      "Epoch number: 3901 and the loss : 50922.59375\n",
      "Epoch number: 3911 and the loss : 52286.69140625\n",
      "Epoch number: 3921 and the loss : 51853.36328125\n",
      "Epoch number: 3931 and the loss : 52563.15234375\n",
      "Epoch number: 3941 and the loss : 51198.109375\n",
      "Epoch number: 3951 and the loss : 50311.203125\n",
      "Epoch number: 3961 and the loss : 49699.03515625\n",
      "Epoch number: 3971 and the loss : 49360.84765625\n",
      "Epoch number: 3981 and the loss : 52719.390625\n",
      "Epoch number: 3991 and the loss : 48060.43359375\n",
      "Epoch number: 4001 and the loss : 48071.203125\n",
      "Epoch number: 4011 and the loss : 49484.3203125\n",
      "Epoch number: 4021 and the loss : 47624.984375\n",
      "Epoch number: 4031 and the loss : 45910.12890625\n",
      "Epoch number: 4041 and the loss : 46706.98828125\n",
      "Epoch number: 4051 and the loss : 45862.8203125\n",
      "Epoch number: 4061 and the loss : 46841.359375\n",
      "Epoch number: 4071 and the loss : 45292.84765625\n",
      "Epoch number: 4081 and the loss : 46494.859375\n",
      "Epoch number: 4091 and the loss : 46567.47265625\n",
      "Epoch number: 4101 and the loss : 43932.82421875\n",
      "Epoch number: 4111 and the loss : 45266.1328125\n",
      "Epoch number: 4121 and the loss : 45027.27734375\n",
      "Epoch number: 4131 and the loss : 43894.78125\n",
      "Epoch number: 4141 and the loss : 42745.7578125\n",
      "Epoch number: 4151 and the loss : 43890.34765625\n",
      "Epoch number: 4161 and the loss : 44085.67578125\n",
      "Epoch number: 4171 and the loss : 41910.87109375\n",
      "Epoch number: 4181 and the loss : 41501.53125\n",
      "Epoch number: 4191 and the loss : 41823.171875\n",
      "Epoch number: 4201 and the loss : 41296.66015625\n",
      "Epoch number: 4211 and the loss : 42619.22265625\n",
      "Epoch number: 4221 and the loss : 47316.91796875\n",
      "Epoch number: 4231 and the loss : 45832.17578125\n",
      "Epoch number: 4241 and the loss : 44822.0078125\n",
      "Epoch number: 4251 and the loss : 40877.91015625\n",
      "Epoch number: 4261 and the loss : 39690.0\n",
      "Epoch number: 4271 and the loss : 41348.62109375\n",
      "Epoch number: 4281 and the loss : 41674.953125\n",
      "Epoch number: 4291 and the loss : 40858.8203125\n",
      "Epoch number: 4301 and the loss : 39701.0390625\n",
      "Epoch number: 4311 and the loss : 39345.828125\n",
      "Epoch number: 4321 and the loss : 39488.88671875\n",
      "Epoch number: 4331 and the loss : 40235.84765625\n",
      "Epoch number: 4341 and the loss : 40766.0703125\n",
      "Epoch number: 4351 and the loss : 38487.34375\n",
      "Epoch number: 4361 and the loss : 39754.2734375\n",
      "Epoch number: 4371 and the loss : 37413.4921875\n",
      "Epoch number: 4381 and the loss : 38595.63671875\n",
      "Epoch number: 4391 and the loss : 38495.17578125\n",
      "Epoch number: 4401 and the loss : 37407.98828125\n",
      "Epoch number: 4411 and the loss : 38756.73828125\n",
      "Epoch number: 4421 and the loss : 39241.5859375\n",
      "Epoch number: 4431 and the loss : 37547.30859375\n",
      "Epoch number: 4441 and the loss : 37949.4296875\n",
      "Epoch number: 4451 and the loss : 36875.47265625\n",
      "Epoch number: 4461 and the loss : 37839.3125\n",
      "Epoch number: 4471 and the loss : 36904.9765625\n",
      "Epoch number: 4481 and the loss : 36917.97265625\n",
      "Epoch number: 4491 and the loss : 37029.17578125\n",
      "Epoch number: 4501 and the loss : 36685.609375\n",
      "Epoch number: 4511 and the loss : 37515.73828125\n",
      "Epoch number: 4521 and the loss : 36269.57421875\n",
      "Epoch number: 4531 and the loss : 35316.41796875\n",
      "Epoch number: 4541 and the loss : 36238.44140625\n",
      "Epoch number: 4551 and the loss : 34877.15625\n",
      "Epoch number: 4561 and the loss : 35794.80859375\n",
      "Epoch number: 4571 and the loss : 35814.03125\n",
      "Epoch number: 4581 and the loss : 36207.765625\n",
      "Epoch number: 4591 and the loss : 36573.8515625\n",
      "Epoch number: 4601 and the loss : 35733.1328125\n",
      "Epoch number: 4611 and the loss : 35125.91015625\n",
      "Epoch number: 4621 and the loss : 37584.7578125\n",
      "Epoch number: 4631 and the loss : 36093.3203125\n",
      "Epoch number: 4641 and the loss : 35628.81640625\n",
      "Epoch number: 4651 and the loss : 34964.8671875\n",
      "Epoch number: 4661 and the loss : 36771.1640625\n",
      "Epoch number: 4671 and the loss : 34666.625\n",
      "Epoch number: 4681 and the loss : 34861.859375\n",
      "Epoch number: 4691 and the loss : 36432.44140625\n",
      "Epoch number: 4701 and the loss : 35937.99609375\n",
      "Epoch number: 4711 and the loss : 34188.17578125\n",
      "Epoch number: 4721 and the loss : 34979.765625\n",
      "Epoch number: 4731 and the loss : 35094.95703125\n",
      "Epoch number: 4741 and the loss : 34877.27734375\n",
      "Epoch number: 4751 and the loss : 35258.43359375\n",
      "Epoch number: 4761 and the loss : 35640.1640625\n",
      "Epoch number: 4771 and the loss : 37816.30859375\n",
      "Epoch number: 4781 and the loss : 36192.48046875\n",
      "Epoch number: 4791 and the loss : 37412.7265625\n",
      "Epoch number: 4801 and the loss : 34094.0703125\n",
      "Epoch number: 4811 and the loss : 35196.66796875\n",
      "Epoch number: 4821 and the loss : 35036.73828125\n",
      "Epoch number: 4831 and the loss : 35839.8046875\n",
      "Epoch number: 4841 and the loss : 33368.83203125\n",
      "Epoch number: 4851 and the loss : 34438.75\n",
      "Epoch number: 4861 and the loss : 35958.0078125\n",
      "Epoch number: 4871 and the loss : 34879.3125\n",
      "Epoch number: 4881 and the loss : 33805.5859375\n",
      "Epoch number: 4891 and the loss : 35192.1640625\n",
      "Epoch number: 4901 and the loss : 35325.77734375\n",
      "Epoch number: 4911 and the loss : 33941.01171875\n",
      "Epoch number: 4921 and the loss : 34878.05078125\n",
      "Epoch number: 4931 and the loss : 35464.4921875\n",
      "Epoch number: 4941 and the loss : 37094.984375\n",
      "Epoch number: 4951 and the loss : 35194.16015625\n",
      "Epoch number: 4961 and the loss : 37423.10546875\n",
      "Epoch number: 4971 and the loss : 34432.625\n",
      "Epoch number: 4981 and the loss : 35628.5859375\n",
      "Epoch number: 4991 and the loss : 35507.49609375\n"
     ]
    }
   ],
   "source": [
    "epochs=5000\n",
    "final_losses=[]\n",
    "for i in range(epochs):\n",
    "    i=i+1\n",
    "    y_pred=model(train_categorical,train_cont)\n",
    "    loss=torch.sqrt(loss_function(y_pred,y_train)) ### RMSE\n",
    "    final_losses.append(loss)\n",
    "    if i%10==1:\n",
    "        print(\"Epoch number: {} and the loss : {}\".format(i,loss.item()))\n",
    "    optimizer.zero_grad()\n",
    "    loss.backward()\n",
    "    optimizer.step()"
   ]
  },
  {
   "cell_type": "code",
   "execution_count": 54,
   "id": "c7180545-8f58-4d2b-8d97-f4a3fbec1bef",
   "metadata": {},
   "outputs": [
    {
     "data": {
      "image/png": "[encoded data removed]",
      "text/plain": [
       "<Figure size 640x480 with 1 Axes>"
      ]
     },
     "metadata": {},
     "output_type": "display_data"
    }
   ],
   "source": [
    "# Convert tensor losses to floats\n",
    "final_losses = [loss.detach().cpu().item() for loss in final_losses]\n",
    "\n",
    "# Now plot\n",
    "plt.plot(range(epochs), final_losses)\n",
    "plt.ylabel('RMSE Loss')\n",
    "plt.xlabel('epoch')\n",
    "plt.show()\n"
   ]
  },
  {
   "cell_type": "code",
   "execution_count": 55,
   "id": "37533ce7-c024-45fc-a0c5-1013dca50a84",
   "metadata": {},
   "outputs": [],
   "source": [
    "data_verify=pd.DataFrame(y_test.tolist(),columns=[\"Test\"])"
   ]
  },
  {
   "cell_type": "code",
   "execution_count": 56,
   "id": "2a0d0646-000b-4ac6-a22e-437f603cc982",
   "metadata": {},
   "outputs": [],
   "source": [
    "data_predicted=pd.DataFrame(y_pred.tolist(),columns=[\"Prediction\"])"
   ]
  },
  {
   "cell_type": "code",
   "execution_count": 57,
   "id": "e0ef5f26-29b8-4b31-aeae-f1d8bd5fdc4c",
   "metadata": {},
   "outputs": [
    {
     "data": {
      "text/html": [
       "<div>\n",
       "<style scoped>\n",
       "    .dataframe tbody tr th:only-of-type {\n",
       "        vertical-align: middle;\n",
       "    }\n",
       "\n",
       "    .dataframe tbody tr th {\n",
       "        vertical-align: top;\n",
       "    }\n",
       "\n",
       "    .dataframe thead th {\n",
       "        text-align: right;\n",
       "    }\n",
       "</style>\n",
       "<table border=\"1\" class=\"dataframe\">\n",
       "  <thead>\n",
       "    <tr style=\"text-align: right;\">\n",
       "      <th></th>\n",
       "      <th>Prediction</th>\n",
       "    </tr>\n",
       "  </thead>\n",
       "  <tbody>\n",
       "    <tr>\n",
       "      <th>0</th>\n",
       "      <td>212793.671875</td>\n",
       "    </tr>\n",
       "    <tr>\n",
       "      <th>1</th>\n",
       "      <td>122829.234375</td>\n",
       "    </tr>\n",
       "    <tr>\n",
       "      <th>2</th>\n",
       "      <td>231747.625000</td>\n",
       "    </tr>\n",
       "    <tr>\n",
       "      <th>3</th>\n",
       "      <td>149616.562500</td>\n",
       "    </tr>\n",
       "    <tr>\n",
       "      <th>4</th>\n",
       "      <td>294662.125000</td>\n",
       "    </tr>\n",
       "    <tr>\n",
       "      <th>...</th>\n",
       "      <td>...</td>\n",
       "    </tr>\n",
       "    <tr>\n",
       "      <th>1015</th>\n",
       "      <td>126049.156250</td>\n",
       "    </tr>\n",
       "    <tr>\n",
       "      <th>1016</th>\n",
       "      <td>373486.718750</td>\n",
       "    </tr>\n",
       "    <tr>\n",
       "      <th>1017</th>\n",
       "      <td>167763.500000</td>\n",
       "    </tr>\n",
       "    <tr>\n",
       "      <th>1018</th>\n",
       "      <td>104411.812500</td>\n",
       "    </tr>\n",
       "    <tr>\n",
       "      <th>1019</th>\n",
       "      <td>119098.710938</td>\n",
       "    </tr>\n",
       "  </tbody>\n",
       "</table>\n",
       "<p>1020 rows × 1 columns</p>\n",
       "</div>"
      ],
      "text/plain": [
       "         Prediction\n",
       "0     212793.671875\n",
       "1     122829.234375\n",
       "2     231747.625000\n",
       "3     149616.562500\n",
       "4     294662.125000\n",
       "...             ...\n",
       "1015  126049.156250\n",
       "1016  373486.718750\n",
       "1017  167763.500000\n",
       "1018  104411.812500\n",
       "1019  119098.710938\n",
       "\n",
       "[1020 rows x 1 columns]"
      ]
     },
     "execution_count": 57,
     "metadata": {},
     "output_type": "execute_result"
    }
   ],
   "source": [
    "data_predicted"
   ]
  },
  {
   "cell_type": "code",
   "execution_count": 58,
   "id": "c2b71813-a73f-41c0-b23b-636b7b3ac8b0",
   "metadata": {},
   "outputs": [
    {
     "data": {
      "text/html": [
       "<div>\n",
       "<style scoped>\n",
       "    .dataframe tbody tr th:only-of-type {\n",
       "        vertical-align: middle;\n",
       "    }\n",
       "\n",
       "    .dataframe tbody tr th {\n",
       "        vertical-align: top;\n",
       "    }\n",
       "\n",
       "    .dataframe thead th {\n",
       "        text-align: right;\n",
       "    }\n",
       "</style>\n",
       "<table border=\"1\" class=\"dataframe\">\n",
       "  <thead>\n",
       "    <tr style=\"text-align: right;\">\n",
       "      <th></th>\n",
       "      <th>Test</th>\n",
       "      <th>Prediction</th>\n",
       "      <th>Difference</th>\n",
       "    </tr>\n",
       "  </thead>\n",
       "  <tbody>\n",
       "    <tr>\n",
       "      <th>0</th>\n",
       "      <td>130000.0</td>\n",
       "      <td>212793.671875</td>\n",
       "      <td>-82793.671875</td>\n",
       "    </tr>\n",
       "    <tr>\n",
       "      <th>1</th>\n",
       "      <td>138887.0</td>\n",
       "      <td>122829.234375</td>\n",
       "      <td>16057.765625</td>\n",
       "    </tr>\n",
       "    <tr>\n",
       "      <th>2</th>\n",
       "      <td>175500.0</td>\n",
       "      <td>231747.625000</td>\n",
       "      <td>-56247.625000</td>\n",
       "    </tr>\n",
       "    <tr>\n",
       "      <th>3</th>\n",
       "      <td>195000.0</td>\n",
       "      <td>149616.562500</td>\n",
       "      <td>45383.437500</td>\n",
       "    </tr>\n",
       "    <tr>\n",
       "      <th>4</th>\n",
       "      <td>142500.0</td>\n",
       "      <td>294662.125000</td>\n",
       "      <td>-152162.125000</td>\n",
       "    </tr>\n",
       "  </tbody>\n",
       "</table>\n",
       "</div>"
      ],
      "text/plain": [
       "       Test     Prediction     Difference\n",
       "0  130000.0  212793.671875  -82793.671875\n",
       "1  138887.0  122829.234375   16057.765625\n",
       "2  175500.0  231747.625000  -56247.625000\n",
       "3  195000.0  149616.562500   45383.437500\n",
       "4  142500.0  294662.125000 -152162.125000"
      ]
     },
     "execution_count": 58,
     "metadata": {},
     "output_type": "execute_result"
    }
   ],
   "source": [
    "final_output=pd.concat([data_verify,data_predicted],axis=1)\n",
    "final_output['Difference']=final_output['Test']-final_output['Prediction']\n",
    "final_output.head()"
   ]
  },
  {
   "cell_type": "code",
   "execution_count": 59,
   "id": "27a9ad7b-1629-4c9d-926f-5ad73bed7586",
   "metadata": {},
   "outputs": [],
   "source": [
    "#### Saving The Model\n",
    "#### Save the model\n",
    "torch.save(model,'HousePrice.pt')"
   ]
  },
  {
   "cell_type": "code",
   "execution_count": 60,
   "id": "3fb845c2-9914-4bfc-ba02-877ef747dee0",
   "metadata": {},
   "outputs": [],
   "source": [
    "torch.save(model.state_dict(),'HouseWeights.pt')"
   ]
  },
  {
   "cell_type": "code",
   "execution_count": 61,
   "id": "a73e05b6-5a60-4bf7-a203-0e89402f49b6",
   "metadata": {},
   "outputs": [],
   "source": [
    "### Loading the saved Model\n",
    "embs_size=[(15, 8), (5, 3), (2, 1), (4, 2)]\n",
    "model1=FeedForwardNN(embs_size,5,1,[100,50],p=0.4)"
   ]
  },
  {
   "cell_type": "code",
   "execution_count": 62,
   "id": "88a5b7c0-1021-4829-ac80-0ab7d950c4a3",
   "metadata": {},
   "outputs": [
    {
     "data": {
      "text/plain": [
       "<All keys matched successfully>"
      ]
     },
     "execution_count": 62,
     "metadata": {},
     "output_type": "execute_result"
    }
   ],
   "source": [
    "model1.load_state_dict(torch.load('HouseWeights.pt'))"
   ]
  },
  {
   "cell_type": "code",
   "execution_count": 63,
   "id": "1fdf3045-b645-4258-8883-082b3401796e",
   "metadata": {},
   "outputs": [
    {
     "data": {
      "text/plain": [
       "FeedForwardNN(\n",
       "  (embeds): ModuleList(\n",
       "    (0): Embedding(15, 8)\n",
       "    (1): Embedding(5, 3)\n",
       "    (2): Embedding(2, 1)\n",
       "    (3): Embedding(4, 2)\n",
       "  )\n",
       "  (emb_drop): Dropout(p=0.4, inplace=False)\n",
       "  (bn_cont): BatchNorm1d(5, eps=1e-05, momentum=0.1, affine=True, track_running_stats=True)\n",
       "  (layers): Sequential(\n",
       "    (0): Linear(in_features=19, out_features=100, bias=True)\n",
       "    (1): ReLU(inplace=True)\n",
       "    (2): BatchNorm1d(100, eps=1e-05, momentum=0.1, affine=True, track_running_stats=True)\n",
       "    (3): Dropout(p=0.4, inplace=False)\n",
       "    (4): Linear(in_features=100, out_features=50, bias=True)\n",
       "    (5): ReLU(inplace=True)\n",
       "    (6): BatchNorm1d(50, eps=1e-05, momentum=0.1, affine=True, track_running_stats=True)\n",
       "    (7): Dropout(p=0.4, inplace=False)\n",
       "    (8): Linear(in_features=50, out_features=1, bias=True)\n",
       "  )\n",
       ")"
      ]
     },
     "execution_count": 63,
     "metadata": {},
     "output_type": "execute_result"
    }
   ],
   "source": [
    "model1.eval()"
   ]
  },
  {
   "cell_type": "code",
   "execution_count": null,
   "id": "3a608d59-384f-40ca-ad6e-352e4b9752f1",
   "metadata": {},
   "outputs": [],
   "source": []
  },
  {
   "cell_type": "code",
   "execution_count": null,
   "id": "caefea16-8499-4713-973c-72de21f7f996",
   "metadata": {},
   "outputs": [],
   "source": []
  },
  {
   "cell_type": "code",
   "execution_count": null,
   "id": "ad77f18f-1d4d-4ea1-bae3-c5ca06d3390a",
   "metadata": {},
   "outputs": [],
   "source": []
  }
 ],
 "metadata": {
  "kernelspec": {
   "display_name": "Python 3 (ipykernel)",
   "language": "python",
   "name": "python3"
  },
  "language_info": {
   "codemirror_mode": {
    "name": "ipython",
    "version": 3
   },
   "file_extension": ".py",
   "mimetype": "text/x-python",
   "name": "python",
   "nbconvert_exporter": "python",
   "pygments_lexer": "ipython3",
   "version": "3.10.19"
  }
 },
 "nbformat": 4,
 "nbformat_minor": 5
}
